{
 "cells": [
  {
   "cell_type": "code",
   "execution_count": 1,
   "metadata": {
    "scrolled": true
   },
   "outputs": [],
   "source": [
    "import math\n",
    "import os\n",
    "import torch\n",
    "from pytorch_pretrained_bert import GPT2Tokenizer, GPT2LMHeadModel\n",
    "# Load pre-trained model (weights)\n",
    "model = GPT2LMHeadModel.from_pretrained('gpt2')\n",
    "model.eval()\n",
    "# Load pre-trained model tokenizer (vocabulary)\n",
    "tokenizer = GPT2Tokenizer.from_pretrained('gpt2')\n",
    "\n",
    "def get_perplexity(story):\n",
    "    tokenize_input = tokenizer.encode(story)\n",
    "    tensor_input = torch.tensor([tokenize_input])\n",
    "    loss=model(tensor_input, lm_labels=tensor_input)\n",
    "    return math.exp(loss) / len(tokenize_input)\n",
    "\n",
    "def generate(story):\n",
    "    tokenize_input = tokenizer.encode(story)\n",
    "    tensor_input = torch.tensor([tokenize_input])\n",
    "    result, past = model(tensor_input)\n",
    "    return result,past"
   ]
  },
  {
   "cell_type": "code",
   "execution_count": 2,
   "metadata": {},
   "outputs": [
    {
     "data": {
      "text/plain": [
       "[{'word': 'Steve', 'tag': 'B-PER', 'confidence': 0.9989603757858276},\n",
       " {'word': 'went', 'tag': 'O', 'confidence': 0.9999730587005615},\n",
       " {'word': 'to', 'tag': 'O', 'confidence': 0.9999728202819824},\n",
       " {'word': 'Paris', 'tag': 'B-LOC', 'confidence': 0.9996751546859741}]"
      ]
     },
     "execution_count": 2,
     "metadata": {},
     "output_type": "execute_result"
    }
   ],
   "source": [
    "from BERT.bert import Ner\n",
    "\n",
    "NER_model = Ner(\"BERT/model\")\n",
    "\n",
    "output = NER_model.predict(\"Steve went to Paris\")\n",
    "\n",
    "output"
   ]
  },
  {
   "cell_type": "code",
   "execution_count": 3,
   "metadata": {},
   "outputs": [
    {
     "data": {
      "text/plain": [
       "[1, 0, 0, 1]"
      ]
     },
     "execution_count": 3,
     "metadata": {},
     "output_type": "execute_result"
    }
   ],
   "source": [
    "def get_mask(NER_output):\n",
    "    mask = []\n",
    "    for word in NER_output:\n",
    "        if word['tag'] != 'O' and word['confidence'] > .9:\n",
    "            mask.append(1)\n",
    "        else:\n",
    "            mask.append(0)\n",
    "    return mask\n",
    "mask = get_mask(output)\n",
    "mask"
   ]
  },
  {
   "cell_type": "code",
   "execution_count": 6,
   "metadata": {},
   "outputs": [
    {
     "data": {
      "text/plain": [
       "15.77853994447171"
      ]
     },
     "execution_count": 6,
     "metadata": {},
     "output_type": "execute_result"
    }
   ],
   "source": [
    "tokenize_input = tokenizer.encode(\"Steve went to Paris to buy pastries\")\n",
    "tensor_input = torch.tensor([tokenize_input])\n",
    "loss = model(tensor_input, lm_labels=tensor_input)\n",
    "math.exp(loss) / len(tokenize_input)"
   ]
  },
  {
   "cell_type": "code",
   "execution_count": 19,
   "metadata": {},
   "outputs": [
    {
     "data": {
      "text/plain": [
       "torch.Size([1, 8, 50257])"
      ]
     },
     "execution_count": 19,
     "metadata": {},
     "output_type": "execute_result"
    }
   ],
   "source": [
    "res, past = generate(\"Why don't we go to bed?\")\n",
    "res.shape"
   ]
  },
  {
   "cell_type": "code",
   "execution_count": null,
   "metadata": {},
   "outputs": [],
   "source": []
  }
 ],
 "metadata": {
  "kernelspec": {
   "display_name": "Python 3",
   "language": "python",
   "name": "python3"
  },
  "language_info": {
   "codemirror_mode": {
    "name": "ipython",
    "version": 3
   },
   "file_extension": ".py",
   "mimetype": "text/x-python",
   "name": "python",
   "nbconvert_exporter": "python",
   "pygments_lexer": "ipython3",
   "version": "3.8.5"
  }
 },
 "nbformat": 4,
 "nbformat_minor": 4
}
